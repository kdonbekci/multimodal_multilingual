{
 "cells": [
  {
   "cell_type": "code",
   "execution_count": 1,
   "id": "24789916-3724-483a-be74-ee39aa0c178e",
   "metadata": {},
   "outputs": [],
   "source": [
    "from pathlib import Path\n",
    "from tqdm import tqdm\n",
    "import torch\n",
    "from torch import nn\n",
    "from torch.nn import functional as F\n",
    "from torch.utils.data import Dataset, DataLoader\n",
    "import pickle\n",
    "from metadata import RawDataset, Metadata, Sentiment, Split\n",
    "import matplotlib.pyplot as plt"
   ]
  },
  {
   "cell_type": "code",
   "execution_count": 50,
   "id": "df8503a4-f109-4bf3-8575-1d6cf626a001",
   "metadata": {},
   "outputs": [],
   "source": [
    "dataset_name = 'CMU-MOSEI'\n",
    "data_dir = Path(\"./data/preprocessed\") / dataset_name\n",
    "with open(f\"./data/{dataset_name}.pkl\", \"rb\") as f:\n",
    "    metadata = pickle.load(f)"
   ]
  },
  {
   "cell_type": "code",
   "execution_count": 51,
   "id": "f210fe28-6945-4d6c-aa5e-7ae359da6fc1",
   "metadata": {},
   "outputs": [],
   "source": [
    "class EmbeddingDataset(Dataset):\n",
    "    def __init__(self, data_dir: Path, metadata: RawDataset):\n",
    "        self.data_dir = Path(data_dir)\n",
    "        self.files = list(self.data_dir.glob(\"*.pt\"))\n",
    "        assert len(self.files) != 0\n",
    "        self.metadata = metadata\n",
    "        utterance_id_to_metadata_temp = {}\n",
    "        self.utterance_id_to_metadata = {}\n",
    "        self.utterance_id_to_sentiment = {}\n",
    "        for m in metadata:\n",
    "            utterance_id = f\"{m.video_id}_{m.clip_id}\"\n",
    "            utterance_id_to_metadata_temp[utterance_id] = m\n",
    "        for file in self.files:\n",
    "            m = utterance_id_to_metadata_temp[file.stem]\n",
    "            self.utterance_id_to_metadata[file.stem] = m\n",
    "            if m.sentiment == Sentiment.NEGATIVE:\n",
    "                self.utterance_id_to_sentiment[file.stem] = 0\n",
    "            elif m.sentiment == Sentiment.NEUTRAL:\n",
    "                self.utterance_id_to_sentiment[file.stem] = 1\n",
    "            elif m.sentiment == Sentiment.POSITIVE:\n",
    "                self.utterance_id_to_sentiment[file.stem] = 2\n",
    "            else:\n",
    "                raise ValueError(f\"{m.sentiment=} not recognized\")\n",
    "\n",
    "    def __len__(self):\n",
    "        return len(self.files)\n",
    "\n",
    "    def __getitem__(self, idx):\n",
    "        file = self.files[idx]\n",
    "        datum = torch.load(file)\n",
    "        datum[\"sentiment\"] = self.utterance_id_to_sentiment[file.stem]\n",
    "        datum[\"a_length\"] = datum[\"a\"].shape[0]\n",
    "        datum[\"t_length\"] = datum[\"t\"].shape[0]\n",
    "        datum[\"v_length\"] = datum[\"v\"].shape[0]\n",
    "        return datum"
   ]
  },
  {
   "cell_type": "code",
   "execution_count": 52,
   "id": "513e686a-bdf5-43cc-af4f-88785f0816c9",
   "metadata": {},
   "outputs": [],
   "source": [
    "train_ds = EmbeddingDataset(data_dir / \"TRAIN\", metadata)\n",
    "val_ds = EmbeddingDataset(data_dir / \"VALIDATION\", metadata)\n",
    "test_ds = EmbeddingDataset(data_dir / \"TEST\", metadata)"
   ]
  },
  {
   "cell_type": "code",
   "execution_count": 53,
   "id": "2692b245-55bf-44b2-8814-e031cdfeffc4",
   "metadata": {},
   "outputs": [],
   "source": [
    "def create_padding_mask(lengths, max_len):\n",
    "    # Create a range tensor [0, 1, 2, ..., max_len-1]\n",
    "    range_tensor = torch.arange(max_len).expand(len(lengths), max_len)\n",
    "    # Compare the range tensor with lengths to generate the mask\n",
    "    # The mask will have 'True' for valid positions and 'False' for padded positions\n",
    "    mask = range_tensor < lengths.unsqueeze(1)\n",
    "    return mask"
   ]
  },
  {
   "cell_type": "code",
   "execution_count": 54,
   "id": "5d271c0d-9e64-4602-897d-ac3fb200c46f",
   "metadata": {},
   "outputs": [],
   "source": [
    "def collate_fn_pad(batch: list[dict]):\n",
    "    a_max, t_max, v_max = -1, -1, -1\n",
    "    a, t, v, sentiment, a_length, t_length, v_length = [], [], [], [], [], [], []\n",
    "    for datum in batch:\n",
    "        a_max = max(a_max, datum[\"a_length\"])\n",
    "        a_length.append(datum[\"a_length\"])\n",
    "        t_max = max(t_max, datum[\"t_length\"])\n",
    "        t_length.append(datum[\"t_length\"])\n",
    "        v_max = max(v_max, datum[\"v_length\"])\n",
    "        v_length.append(datum[\"v_length\"])\n",
    "        a.append(datum[\"a\"])\n",
    "        t.append(datum[\"t\"])\n",
    "        v.append(datum[\"v\"])\n",
    "        sentiment.append(datum[\"sentiment\"])\n",
    "    a = nn.utils.rnn.pad_sequence(a)\n",
    "    t = nn.utils.rnn.pad_sequence(t)\n",
    "    v = nn.utils.rnn.pad_sequence(v)\n",
    "    sentiment = torch.tensor(sentiment)\n",
    "    a_length = torch.tensor(a_length)\n",
    "    t_length = torch.tensor(t_length)\n",
    "    v_length = torch.tensor(v_length)\n",
    "    collated = {\n",
    "        \"a\": a,\n",
    "        \"a_length\": a_length,\n",
    "        \"a_padding\": create_padding_mask(a_length, a_max),\n",
    "        \"t\": t,\n",
    "        \"t_length\": t_length,\n",
    "        \"t_padding\": create_padding_mask(t_length, t_max),\n",
    "        \"v\": v,\n",
    "        \"v_length\": v_length,\n",
    "        \"v_padding\": create_padding_mask(v_length, v_max),\n",
    "        \"sentiment\": sentiment,\n",
    "    }\n",
    "    return collated\n",
    "\n",
    "    # ## get sequence lengths\n",
    "    # lengths = torch.tensor([ t.shape[0] for t in batch ]).to(device)\n",
    "    # ## padd\n",
    "    # batch = [ torch.Tensor(t).to(device) for t in batch ]\n",
    "    # batch = torch.nn.utils.rnn.pad_sequence(batch)\n",
    "    # ## compute mask\n",
    "    # mask = (batch != 0).to(device)\n",
    "    # return batch, lengths, mask"
   ]
  },
  {
   "cell_type": "code",
   "execution_count": 63,
   "id": "e02cb096-4d2b-4025-9dac-7b7f82d417f0",
   "metadata": {},
   "outputs": [],
   "source": [
    "train_dl = DataLoader(train_ds, batch_size=32, shuffle=True, collate_fn=collate_fn_pad, num_workers=0)\n",
    "val_dl = DataLoader(val_ds, batch_size=32, shuffle=False, collate_fn=collate_fn_pad, num_workers=0)\n",
    "test_dl = DataLoader(test_ds, batch_size=32, shuffle=False, collate_fn=collate_fn_pad, num_workers=0)"
   ]
  },
  {
   "cell_type": "code",
   "execution_count": 65,
   "id": "7610157d-156a-4d55-9561-6b764c522f15",
   "metadata": {},
   "outputs": [
    {
     "name": "stderr",
     "output_type": "stream",
     "text": [
      "100%|█████████████████████████████████████████████████████████████████████████████████████████████████████████████████████████████████████████████████████████████████████████████████████████████████| 121/121 [00:15<00:00,  7.88it/s]\n"
     ]
    }
   ],
   "source": [
    "for x in tqdm(test_dl):\n",
    "    pass"
   ]
  },
  {
   "cell_type": "code",
   "execution_count": null,
   "id": "24e0d6d2-5440-4443-b1e1-38b1e462b559",
   "metadata": {},
   "outputs": [],
   "source": [
    "## attn_mask = x[\"v_padding\"].unsqueeze(-1) * x[\"t_padding\"].unsqueeze(1)\n",
    "attn_mask = ~attn_mask"
   ]
  },
  {
   "cell_type": "code",
   "execution_count": null,
   "id": "35849686-f9d7-4529-812a-cc6bc47713cb",
   "metadata": {},
   "outputs": [],
   "source": []
  }
 ],
 "metadata": {
  "kernelspec": {
   "display_name": "Python 3 (ipykernel)",
   "language": "python",
   "name": "python3"
  },
  "language_info": {
   "codemirror_mode": {
    "name": "ipython",
    "version": 3
   },
   "file_extension": ".py",
   "mimetype": "text/x-python",
   "name": "python",
   "nbconvert_exporter": "python",
   "pygments_lexer": "ipython3",
   "version": "3.11.5"
  }
 },
 "nbformat": 4,
 "nbformat_minor": 5
}
