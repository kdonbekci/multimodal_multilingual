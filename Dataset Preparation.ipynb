{
 "cells": [
  {
   "cell_type": "code",
   "execution_count": 102,
   "id": "e924ac90-96c8-4dc9-aa91-84a376753afa",
   "metadata": {},
   "outputs": [],
   "source": [
    "\n",
    "\n",
    "from pathlib import Path\n",
    "\n",
    "\n",
    "import IPython.display as ipd\n",
    "import numpy as np\n",
    "import pandas as pd\n",
    "import torch\n",
    "from tqdm import tqdm\n",
    "\n",
    "import torchaudio\n",
    "import matplotlib.pyplot as plt\n",
    "import time\n",
    "import torch.nn as nn\n",
    "import torch.nn.functional as F\n",
    "import torchvision.transforms.functional as F_vision\n",
    "import pickle\n",
    "import ipywidgets as widgets\n",
    "import itertools\n",
    "from utils import split_to_n_chunks\n",
    "from metadata import RawDataset"
   ]
  },
  {
   "cell_type": "code",
   "execution_count": 2,
   "id": "16a70d8d-5cb8-4e5d-9be6-1b9946633e4a",
   "metadata": {},
   "outputs": [],
   "source": [
    "data_dir = Path(\"./data/\")"
   ]
  },
  {
   "cell_type": "code",
   "execution_count": 3,
   "id": "87182864-2e3d-4c1b-848c-4ec34c4f14e3",
   "metadata": {},
   "outputs": [],
   "source": []
  },
  {
   "cell_type": "code",
   "execution_count": 4,
   "id": "7c048d9e-e400-4faf-9305-17328afcf122",
   "metadata": {},
   "outputs": [],
   "source": [
    "# # to re-extract metadata, uncomment and run the lines below, they are however cached as\n",
    "# # pickles and can be loaded instead\n",
    "# ch_sims = RawDataset(data_dir=data_dir, dataset_name=\"CH-SIMS\", debug=False)\n",
    "# with open('./data/CH-SIMS.pkl', 'wb') as f:\n",
    "#     pickle.dump(ch_sims, f)\n",
    "# cmu_mosei = RawDataset(data_dir=data_dir, dataset_name=\"CMU-MOSEI\", debug=False)\n",
    "# with open('./data/CMU-MOSEI.pkl', 'wb') as f:\n",
    "#     pickle.dump(cmu_mosei, f)"
   ]
  },
  {
   "cell_type": "code",
   "execution_count": 5,
   "id": "e8cd3e61-a6ba-45c4-a2eb-8c6af8ee7ed9",
   "metadata": {},
   "outputs": [],
   "source": [
    "with open(\"./data/CMU-MOSEI.pkl\", \"rb\") as f:\n",
    "    cmu_mosei = pickle.load(f)\n",
    "with open(\"./data/CH-SIMS.pkl\", \"rb\") as f:\n",
    "    ch_sims = pickle.load(f)"
   ]
  },
  {
   "cell_type": "code",
   "execution_count": 6,
   "id": "6314a2a5-3699-4fbe-a6cb-78d0f4bf0ea1",
   "metadata": {},
   "outputs": [
    {
     "data": {
      "text/plain": [
       "22856"
      ]
     },
     "execution_count": 6,
     "metadata": {},
     "output_type": "execute_result"
    }
   ],
   "source": [
    "len(cmu_mosei)"
   ]
  },
  {
   "cell_type": "code",
   "execution_count": 7,
   "id": "c99f50da-4df1-4aa8-a593-b30b25f9ca90",
   "metadata": {},
   "outputs": [
    {
     "data": {
      "text/plain": [
       "4403"
      ]
     },
     "execution_count": 7,
     "metadata": {},
     "output_type": "execute_result"
    }
   ],
   "source": [
    "len(ch_sims)"
   ]
  },
  {
   "cell_type": "raw",
   "id": "035eec48-80ac-45cd-866f-c7ea9c8e721c",
   "metadata": {},
   "source": [
    "CMU-MOSEI problem examples\n",
    "3213: the text is positive leaning according to Chat GPT but visual clues hint negative\n",
    "5522: Very Long video that can be chopped up using forced alignment\n",
    "21807: Non human, animation\n",
    "5551: small face, AI upsampling\n",
    "5921: No face"
   ]
  },
  {
   "cell_type": "code",
   "execution_count": 8,
   "id": "deb4b642-c146-4f0d-bca3-2c2aef0b0c49",
   "metadata": {},
   "outputs": [
    {
     "name": "stdout",
     "output_type": "stream",
     "text": [
      "mean duration: 6.964760340764422\n",
      "90th percentile: 12.634512471655329\n",
      "95th percentile: 15.91903401360543\n",
      "99th percentile: 23.6076707482993\n"
     ]
    }
   ],
   "source": [
    "durations = np.array([x.duration for x in cmu_mosei] + [x.duration for x in ch_sims])\n",
    "print(f\"mean duration: {np.mean(durations)}\")\n",
    "print(f\"90th percentile: {np.percentile(durations, 90)}\")\n",
    "print(f\"95th percentile: {np.percentile(durations, 95)}\")\n",
    "print(f\"99th percentile: {np.percentile(durations, 99)}\")"
   ]
  },
  {
   "cell_type": "code",
   "execution_count": 9,
   "id": "bcc08b4d-9d5e-4ea7-9418-fe38b9d5a798",
   "metadata": {},
   "outputs": [],
   "source": [
    "duration_cutoff = 12  # will discard examples longer than 12 seconds\n",
    "max_audio_embedding_timesteps = 599  # wav2vec2 output on 12 sec audio\n",
    "max_visual_embedding_timesteps = 30 * duration_cutoff  # 30 fps x 12sec = 360\n",
    "max_text_embedding_timesteps = 50  # 99th percentile in the dataset"
   ]
  },
  {
   "cell_type": "code",
   "execution_count": 10,
   "id": "84b7e3a2-567f-4a72-818b-da7177a83278",
   "metadata": {},
   "outputs": [],
   "source": [
    "from transformers import Wav2Vec2FeatureExtractor, Wav2Vec2Model\n",
    "\n",
    "feature_extractor = Wav2Vec2FeatureExtractor(\n",
    "    feature_size=1,\n",
    "    sampling_rate=16000,\n",
    "    padding_value=0.0,\n",
    "    do_normalize=True,\n",
    "    return_attention_mask=True,\n",
    ")\n",
    "# we are using Wav2Vec2-XLS-R as it is trained on multilingual data\n",
    "audio_model = Wav2Vec2Model.from_pretrained(\n",
    "    \"facebook/wav2vec2-xls-r-300m\", cache_dir=\"models/\"\n",
    ").cuda()"
   ]
  },
  {
   "cell_type": "code",
   "execution_count": 11,
   "id": "43c94def-2c20-4f61-b5e4-286f3b5b06d8",
   "metadata": {},
   "outputs": [],
   "source": [
    "def extract_audio_embedding(audio, sr):\n",
    "    audio = audio.mean(dim=0)\n",
    "    if sr != 16_000:\n",
    "        # Wav2Vec2 requires audio to be 16kHz\n",
    "        resampler = torchaudio.transforms.Resample(orig_freq=sr, new_freq=16_000)\n",
    "        audio = resampler(audio)\n",
    "    audio = feature_extractor(\n",
    "        audio, sampling_rate=16_000, return_tensors=\"pt\"\n",
    "    ).input_values.cuda()\n",
    "    with torch.no_grad():\n",
    "        audio_embeddings = audio_model(audio).last_hidden_state.cpu().squeeze()\n",
    "    return audio_embeddings, audio.cpu().squeeze()"
   ]
  },
  {
   "cell_type": "code",
   "execution_count": 12,
   "id": "be0734bb-d38d-4f31-a583-7bca5a8b8ae6",
   "metadata": {},
   "outputs": [],
   "source": [
    "from transformers import XLMRobertaTokenizer, XLMRobertaModel\n",
    "\n",
    "# similarly for text, we are using XLM-RoBERTa which was trained on multilingual data\n",
    "tokenizer = XLMRobertaTokenizer.from_pretrained(\"xlm-roberta-base\", cache_dir=\"models/\")\n",
    "text_model = XLMRobertaModel.from_pretrained(\n",
    "    \"xlm-roberta-base\", cache_dir=\"models/\"\n",
    ").cuda()"
   ]
  },
  {
   "cell_type": "code",
   "execution_count": 13,
   "id": "d5952852-48f6-40dc-887f-0c0f5154823d",
   "metadata": {},
   "outputs": [],
   "source": [
    "def extract_text_embedding(text: str):\n",
    "    encoded_input = tokenizer(text, return_tensors=\"pt\")\n",
    "    encoded_input = {key: val.cuda() for key, val in encoded_input.items()}\n",
    "    with torch.no_grad():\n",
    "        text_embeddings = text_model(**encoded_input).last_hidden_state.cpu().squeeze()\n",
    "    return text_embeddings"
   ]
  },
  {
   "cell_type": "code",
   "execution_count": 14,
   "id": "633844d7-a11f-44a2-a420-1a80182af03a",
   "metadata": {},
   "outputs": [
    {
     "name": "stdout",
     "output_type": "stream",
     "text": [
      "32 256\n"
     ]
    }
   ],
   "source": [
    "from batch_face import RetinaFace\n",
    "from models_multiview import FrontaliseModelMasks_wider\n",
    "\n",
    "# for visual embeddings, we are first using RetinaFace to find a cropping box for the face\n",
    "# and then we are using FAb-Net to extract visual facial embeddings\n",
    "detector = RetinaFace(gpu_id=0, model_path=\"./models/RetinaFace/mobilenet0.25_Final.pth\")\n",
    "visual_model = FrontaliseModelMasks_wider(\n",
    "    input_nc=3, inner_nc=256, num_additional_ids=32\n",
    ")\n",
    "visual_model.load_state_dict(\n",
    "    torch.load(\"./models/fabnet/affectnet_4views.pth\")[\"state_dict_model\"]\n",
    ")\n",
    "visual_model = visual_model.eval().cuda()"
   ]
  },
  {
   "cell_type": "code",
   "execution_count": 15,
   "id": "fd9897fe-6cd0-44de-bf59-f678b36148fd",
   "metadata": {},
   "outputs": [],
   "source": [
    "def find_largest_face(faces: list):\n",
    "    # a lot of videos in CMU-MOSEI come from DVD reviews. These often have actors faces\n",
    "    # in the frame. A good heuristic for finding the face of the speaker is finding the\n",
    "    # largest face in the frame.\n",
    "    ix = -1\n",
    "    max_area = -1\n",
    "    for i, face in enumerate(faces):\n",
    "        bbox, _, conf = face\n",
    "        if conf < 0.99:\n",
    "            continue\n",
    "        face_width = bbox[2] - bbox[0]\n",
    "        face_height = bbox[3] - bbox[1]\n",
    "        face_area = face_width * face_height\n",
    "        if face_area > max_area:\n",
    "            ix = i\n",
    "            max_area = face_area\n",
    "\n",
    "    if ix != -1:\n",
    "        return faces[ix]\n",
    "    return None"
   ]
  },
  {
   "cell_type": "code",
   "execution_count": 16,
   "id": "8e637553-02ec-48d7-a417-bac1673bd786",
   "metadata": {},
   "outputs": [],
   "source": [
    "MIN_FACE_WIDTH = 30\n",
    "MIN_FACE_HEIGHT = 60\n",
    "MIN_FACE_CONFIDENCE = 0.95\n",
    "\n",
    "\n",
    "def check_faces(faces: list):\n",
    "    # some videos do not have a face in the frame. we reject these\n",
    "    # as they won't be useful as training data.\n",
    "    if len(faces) != 1:\n",
    "        face = find_largest_face(faces)\n",
    "        if face is None:\n",
    "            return None\n",
    "    else:\n",
    "        face = faces[0]\n",
    "    bbox, _, conf = face\n",
    "    if conf < MIN_FACE_CONFIDENCE:\n",
    "        return None\n",
    "    face_width = bbox[2] - bbox[0]\n",
    "    face_height = bbox[3] - bbox[1]\n",
    "    if face_width < MIN_FACE_WIDTH:\n",
    "        return None\n",
    "    elif face_height < MIN_FACE_HEIGHT:\n",
    "        return None\n",
    "    return bbox.round().astype(int)"
   ]
  },
  {
   "cell_type": "code",
   "execution_count": 17,
   "id": "646f862f-6c45-4f5f-8276-200ba19c707d",
   "metadata": {},
   "outputs": [],
   "source": [
    "def crop_face(frame_face):\n",
    "    # we crop the face to a 256x256 bounding box,\n",
    "    # adding padding if necessary to center the face.\n",
    "\n",
    "    frame, face = frame_face\n",
    "    # frame = (height, width, channels)\n",
    "    # face = (x_start, y_start, x_end, y_end)\n",
    "    x_start, y_start, x_end, y_end = face\n",
    "    x_center = (x_start + x_end) / 2\n",
    "    y_center = (y_start + y_end) / 2\n",
    "\n",
    "    width = x_end - x_start\n",
    "    height = y_end - y_start\n",
    "    if width > height:\n",
    "        length = width\n",
    "    else:\n",
    "        length = height\n",
    "\n",
    "    pad = int(length * 0.2)\n",
    "\n",
    "    padded_x_start = int(x_center - length / 2 - pad)\n",
    "\n",
    "    padded_y_start = int(y_center - length / 2 - pad)\n",
    "\n",
    "    frame = torch.tensor(frame).permute(2, 0, 1)\n",
    "    face_frame = F_vision.resized_crop(\n",
    "        frame,\n",
    "        top=padded_y_start,\n",
    "        left=padded_x_start,\n",
    "        height=length + 2 * pad,\n",
    "        width=length + 2 * pad,\n",
    "        size=[256, 256],\n",
    "        antialias=True,\n",
    "    )\n",
    "    return face_frame"
   ]
  },
  {
   "cell_type": "code",
   "execution_count": 18,
   "id": "7f7939cb-4055-46ac-a39c-8158a56cd59c",
   "metadata": {},
   "outputs": [],
   "source": [
    "def extract_visual_embedding(frames):\n",
    "    # the visual embedding pipeline consists of:\n",
    "    # 1. detect all faces in every frame\n",
    "    # 2. check the faces for speaker's face\n",
    "    # 3. crop the frame to center the face of speaker\n",
    "    # 4. extract embeddings via FAb-Net from the cropepd faces\n",
    "    size = np.prod(frames.shape[:-1])\n",
    "    split_to = int(np.ceil(size / 99901440)) # to avoid GPU OOM errors\n",
    "    frames_batched = list(split_to_n_chunks(frames, n=split_to))\n",
    "    faces_in_frames = [detector.detect(frames, chunk_size=frames.shape[0]) for frames in frames_batched]\n",
    "    faces_in_frames = list(itertools.chain(*faces_in_frames))\n",
    "    faces_in_frames = map(check_faces, faces_in_frames)\n",
    "    face_frames = list(\n",
    "        map(\n",
    "            crop_face,\n",
    "            filter(\n",
    "                lambda frame_face: frame_face[1] is not None,\n",
    "                zip(frames, faces_in_frames),\n",
    "            ),\n",
    "        )\n",
    "    )\n",
    "    if len(face_frames) < 5:\n",
    "        return None, None\n",
    "    face_frames = torch.stack(face_frames)\n",
    "    face_frames_cuda = F_vision.convert_image_dtype(face_frames).cuda()\n",
    "    with torch.no_grad():\n",
    "        visual_embeddings = visual_model.encoder(face_frames_cuda).cpu().squeeze()\n",
    "    return visual_embeddings, face_frames.permute(0, 2, 3, 1)"
   ]
  },
  {
   "cell_type": "code",
   "execution_count": 19,
   "id": "65d670c5-0654-4556-bcbe-2a1aa44afc61",
   "metadata": {},
   "outputs": [],
   "source": [
    "def plot_face(face_frames: torch.Tensor, index: int):\n",
    "    plt.imshow(face_frames[index])"
   ]
  },
  {
   "cell_type": "code",
   "execution_count": 20,
   "id": "74faf14e-8a43-4717-ad40-7613e25cf768",
   "metadata": {},
   "outputs": [],
   "source": [
    "# i = np.random.randint(0, len(cmu_mosei))\n",
    "# print(i)\n",
    "# metadata = cmu_mosei[i]\n",
    "# metadata.play_video()"
   ]
  },
  {
   "cell_type": "code",
   "execution_count": 21,
   "id": "b8ddd141-ebc5-41d4-aa0d-e332e5b31c28",
   "metadata": {},
   "outputs": [],
   "source": [
    "# audio_embedding, audio = extract_audio_embedding(*metadata.get_audio())\n",
    "# text_embedding = extract_text_embedding(metadata.text)\n",
    "# visual_embedding, face_frames = extract_visual_embedding(\n",
    "#     metadata.get_video_frames(fps=30)\n",
    "# )"
   ]
  },
  {
   "cell_type": "code",
   "execution_count": 22,
   "id": "f4640659-29c3-4564-a8e9-8cb3e6e5607d",
   "metadata": {},
   "outputs": [],
   "source": [
    "# text_embedding.shape"
   ]
  },
  {
   "cell_type": "code",
   "execution_count": 23,
   "id": "cb7bd5b7-1131-47f8-9204-cef4319bd5d5",
   "metadata": {},
   "outputs": [],
   "source": [
    "# audio_embedding.shape"
   ]
  },
  {
   "cell_type": "code",
   "execution_count": 24,
   "id": "7c3e93ab-9b6d-4d59-85cf-760aeb16ea18",
   "metadata": {},
   "outputs": [],
   "source": [
    "# visual_embedding.shape"
   ]
  },
  {
   "cell_type": "code",
   "execution_count": 25,
   "id": "b3082a1f-7687-4ec0-a6e4-50936fa7f5d6",
   "metadata": {},
   "outputs": [],
   "source": [
    "# _ = widgets.interact(\n",
    "#     plot_face,\n",
    "#     index=(0, len(face_frames) - 1, 1),\n",
    "#     face_frames=widgets.fixed(face_frames),\n",
    "# )"
   ]
  },
  {
   "cell_type": "code",
   "execution_count": 96,
   "id": "1d08b0b7-5d90-4a98-94cb-93b711f87835",
   "metadata": {},
   "outputs": [],
   "source": [
    "preprocessed_dir = Path(\"./data/preprocessed/\")\n",
    "datasets = {\"CMU-MOSEI\": cmu_mosei, \"CH-SIMS\": ch_sims}\n",
    "text_embedding_sizes = []\n",
    "audio_embedding_sizes = []\n",
    "visual_embedding_sizes = []\n",
    "failed = {}\n",
    "processed = {}"
   ]
  },
  {
   "cell_type": "code",
   "execution_count": 97,
   "id": "a8c35ccc-2751-4c22-8e8b-e999a07fe3fd",
   "metadata": {},
   "outputs": [],
   "source": [
    "missing = {}\n",
    "missing_plot = {}"
   ]
  },
  {
   "cell_type": "code",
   "execution_count": 98,
   "id": "441a2c34-6c63-4c1d-b9be-7cda0ac9304b",
   "metadata": {},
   "outputs": [
    {
     "name": "stderr",
     "output_type": "stream",
     "text": [
      "100%|█████████████████████████████████████████████████████████████████████████████████████████████████████████████████████████████████████████████████████████████████████████████████████████| 22856/22856 [00:00<00:00, 125870.70it/s]\n",
      "100%|███████████████████████████████████████████████████████████████████████████████████████████████████████████████████████████████████████████████████████████████████████████████████████████| 4403/4403 [00:00<00:00, 122303.89it/s]\n"
     ]
    }
   ],
   "source": [
    "\n",
    "for dataset_name, dataset in datasets.items():\n",
    "    missing[dataset_name] = []\n",
    "    missing_plot[dataset_name] = []\n",
    "    for i, metadata in enumerate(tqdm(dataset)):\n",
    "        utterance_id = f\"{metadata.video_id}_{metadata.clip_id}\"\n",
    "        split = metadata.split.name\n",
    "        split_dir = preprocessed_dir / dataset_name / split\n",
    "        export_path = split_dir / utterance_id\n",
    "        if metadata.duration > duration_cutoff:\n",
    "            continue\n",
    "        if export_path.exists():\n",
    "            missing_plot[dataset_name].append(1)\n",
    "            continue\n",
    "        else:\n",
    "            missing[dataset_name].append(metadata)\n",
    "            missing_plot[dataset_name].append(0)"
   ]
  },
  {
   "cell_type": "code",
   "execution_count": 99,
   "id": "cd53ad56-6beb-46dd-bd1e-9e993d60afe5",
   "metadata": {},
   "outputs": [
    {
     "data": {
      "text/plain": [
       "<matplotlib.image.AxesImage at 0x7fcdf57ccf10>"
      ]
     },
     "execution_count": 99,
     "metadata": {},
     "output_type": "execute_result"
    },
    {
     "data": {
      "image/png": "[encoded data removed]",
      "text/plain": [
       "<Figure size 1600x200 with 1 Axes>"
      ]
     },
     "metadata": {},
     "output_type": "display_data"
    }
   ],
   "source": [
    "plt.matshow(np.array(missing_plot['CMU-MOSEI'])[:, None].T, aspect='auto')"
   ]
  },
  {
   "cell_type": "code",
   "execution_count": 100,
   "id": "c128097f-a327-4720-bb6b-95a8972558f1",
   "metadata": {},
   "outputs": [
    {
     "data": {
      "text/plain": [
       "<matplotlib.image.AxesImage at 0x7fcdf5805890>"
      ]
     },
     "execution_count": 100,
     "metadata": {},
     "output_type": "execute_result"
    },
    {
     "data": {
      "image/png": "[encoded data removed]",
      "text/plain": [
       "<Figure size 1600x200 with 1 Axes>"
      ]
     },
     "metadata": {},
     "output_type": "display_data"
    }
   ],
   "source": [
    "plt.matshow(np.array(missing_plot['CH-SIMS'])[:, None].T, aspect='auto')"
   ]
  },
  {
   "cell_type": "code",
   "execution_count": 89,
   "id": "f3b07968-2853-4bf6-91ad-fb61d3f29b9c",
   "metadata": {},
   "outputs": [],
   "source": [
    "# del missing['CMU-MOSEI']"
   ]
  },
  {
   "cell_type": "code",
   "execution_count": 101,
   "id": "18a37cee-1f2c-4ea2-b649-166ea30bf911",
   "metadata": {},
   "outputs": [],
   "source": [
    "# # for dataset_name, dataset in datasets.items():\n",
    "# for dataset_name, dataset in missing.items():\n",
    "#     failed[dataset_name] = []\n",
    "#     processed[dataset_name] = []\n",
    "#     for i, metadata in enumerate(tqdm(dataset)):\n",
    "#         utterance_id = f\"{metadata.video_id}_{metadata.clip_id}\"\n",
    "#         split = metadata.split.name\n",
    "#         split_dir = preprocessed_dir / dataset_name / split\n",
    "#         split_dir.mkdir(parents=True, exist_ok=True)\n",
    "#         if metadata.duration > duration_cutoff:\n",
    "#             continue\n",
    "#         visual_embedding, face_frames = extract_visual_embedding(\n",
    "#             metadata.get_video_frames(fps=30)\n",
    "#         )\n",
    "#         if visual_embedding is None:\n",
    "#             failed[dataset_name].append(metadata)\n",
    "#             continue\n",
    "#         audio_embedding, audio = extract_audio_embedding(*metadata.get_audio())\n",
    "#         text_embedding = extract_text_embedding(metadata.text)\n",
    "\n",
    "#         datum = {\"v\": visual_embedding, \"a\": audio_embedding, \"t\": text_embedding}\n",
    "#         visual_embedding_sizes.append(visual_embedding.shape[0])\n",
    "#         audio_embedding_sizes.append(audio_embedding.shape[0])\n",
    "#         text_embedding_sizes.append(text_embedding.shape[0])\n",
    "#         torch.save(datum, split_dir / f'{utterance_id}.pt')"
   ]
  },
  {
   "cell_type": "raw",
   "id": "ac00f467-b367-40be-b200-36d5ccb5870a",
   "metadata": {},
   "source": [
    "SSD read speed 400MB/s\n",
    "NVMe read speed 860MB/s\n",
    "1.3MB with wav2vec2 extracted on 5.4sec\n",
    "average duration is 5.64sec\n",
    "so 1.4MB average sample\n",
    "at SSD can read 285 samples/sec  \n",
    "at NVMe can read 614 samples/sec\n",
    "with batch size of 64\n",
    "at SSD can read 4.5 batch/sec or 224ms/batch\n",
    "at NVMe can read or 9.6 batch/sec 104ms/batch"
   ]
  },
  {
   "cell_type": "code",
   "execution_count": null,
   "id": "2dc1c3d7-d87d-441b-a12c-6f7d25cf00a4",
   "metadata": {},
   "outputs": [],
   "source": []
  }
 ],
 "metadata": {
  "kernelspec": {
   "display_name": "Python 3 (ipykernel)",
   "language": "python",
   "name": "python3"
  },
  "language_info": {
   "codemirror_mode": {
    "name": "ipython",
    "version": 3
   },
   "file_extension": ".py",
   "mimetype": "text/x-python",
   "name": "python",
   "nbconvert_exporter": "python",
   "pygments_lexer": "ipython3",
   "version": "3.11.5"
  }
 },
 "nbformat": 4,
 "nbformat_minor": 5
}
